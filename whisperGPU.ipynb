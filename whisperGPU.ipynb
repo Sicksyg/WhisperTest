{
 "cells": [
  {
   "cell_type": "code",
   "execution_count": 1,
   "metadata": {},
   "outputs": [],
   "source": [
    "import whisper\n",
    "import torch\n",
    "import os"
   ]
  },
  {
   "cell_type": "code",
   "execution_count": null,
   "metadata": {},
   "outputs": [],
   "source": [
    "#print(os.environ)\n",
    "#os.environ[\"PYTORCH_CUDA_ALLOC_CONF\"] = \"max_split_size_mb:128\""
   ]
  },
  {
   "cell_type": "code",
   "execution_count": 22,
   "metadata": {},
   "outputs": [
    {
     "name": "stdout",
     "output_type": "stream",
     "text": [
      "|===========================================================================|\n",
      "|                  PyTorch CUDA memory summary, device ID 0                 |\n",
      "|---------------------------------------------------------------------------|\n",
      "|            CUDA OOMs: 0            |        cudaMalloc retries: 0         |\n",
      "|===========================================================================|\n",
      "|        Metric         | Cur Usage  | Peak Usage | Tot Alloc  | Tot Freed  |\n",
      "|---------------------------------------------------------------------------|\n",
      "| Allocated memory      |       0 B  |       0 B  |       0 B  |       0 B  |\n",
      "|       from large pool |       0 B  |       0 B  |       0 B  |       0 B  |\n",
      "|       from small pool |       0 B  |       0 B  |       0 B  |       0 B  |\n",
      "|---------------------------------------------------------------------------|\n",
      "| Active memory         |       0 B  |       0 B  |       0 B  |       0 B  |\n",
      "|       from large pool |       0 B  |       0 B  |       0 B  |       0 B  |\n",
      "|       from small pool |       0 B  |       0 B  |       0 B  |       0 B  |\n",
      "|---------------------------------------------------------------------------|\n",
      "| GPU reserved memory   |       0 B  |       0 B  |       0 B  |       0 B  |\n",
      "|       from large pool |       0 B  |       0 B  |       0 B  |       0 B  |\n",
      "|       from small pool |       0 B  |       0 B  |       0 B  |       0 B  |\n",
      "|---------------------------------------------------------------------------|\n",
      "| Non-releasable memory |       0 B  |       0 B  |       0 B  |       0 B  |\n",
      "|       from large pool |       0 B  |       0 B  |       0 B  |       0 B  |\n",
      "|       from small pool |       0 B  |       0 B  |       0 B  |       0 B  |\n",
      "|---------------------------------------------------------------------------|\n",
      "| Allocations           |       0    |       0    |       0    |       0    |\n",
      "|       from large pool |       0    |       0    |       0    |       0    |\n",
      "|       from small pool |       0    |       0    |       0    |       0    |\n",
      "|---------------------------------------------------------------------------|\n",
      "| Active allocs         |       0    |       0    |       0    |       0    |\n",
      "|       from large pool |       0    |       0    |       0    |       0    |\n",
      "|       from small pool |       0    |       0    |       0    |       0    |\n",
      "|---------------------------------------------------------------------------|\n",
      "| GPU reserved segments |       0    |       0    |       0    |       0    |\n",
      "|       from large pool |       0    |       0    |       0    |       0    |\n",
      "|       from small pool |       0    |       0    |       0    |       0    |\n",
      "|---------------------------------------------------------------------------|\n",
      "| Non-releasable allocs |       0    |       0    |       0    |       0    |\n",
      "|       from large pool |       0    |       0    |       0    |       0    |\n",
      "|       from small pool |       0    |       0    |       0    |       0    |\n",
      "|---------------------------------------------------------------------------|\n",
      "| Oversize allocations  |       0    |       0    |       0    |       0    |\n",
      "|---------------------------------------------------------------------------|\n",
      "| Oversize GPU segments |       0    |       0    |       0    |       0    |\n",
      "|===========================================================================|\n",
      "\n",
      "NVIDIA GeForce GTX 1070\n",
      "torch.float32\n",
      "(7582253056, 8589672448)\n",
      "0\n"
     ]
    }
   ],
   "source": [
    "# load models\n",
    "# whisper.load_model(\"medium\")\n",
    "\n",
    "# Memory summary:\n",
    "print(torch.cuda.memory_summary())\n",
    "\n",
    "# Debug informations\n",
    "print(torch.cuda.get_device_name())  #Print the \n",
    "print(torch.get_default_dtype()) \n",
    "print(torch.cuda.mem_get_info())\n",
    "\n",
    "\n",
    "print(torch.cuda.memory_allocated())\n",
    "\n",
    "# Empty the PyTorch cache reserved for the cuda cores:\n",
    "torch.cuda.empty_cache()"
   ]
  },
  {
   "cell_type": "code",
   "execution_count": 27,
   "metadata": {},
   "outputs": [
    {
     "data": {
      "text/plain": [
       "_CudaDeviceProperties(name='NVIDIA GeForce GTX 1070', major=6, minor=1, total_memory=8191MB, multi_processor_count=15)"
      ]
     },
     "execution_count": 27,
     "metadata": {},
     "output_type": "execute_result"
    }
   ],
   "source": [
    "torch.cuda.get_device_properties(0)\n"
   ]
  },
  {
   "cell_type": "code",
   "execution_count": 1,
   "metadata": {},
   "outputs": [
    {
     "name": "stdout",
     "output_type": "stream",
     "text": [
      "Cuda device NVIDIA GeForce GTX 1070 is avaliable. Setting DEVICE to NVIDIA GeForce GTX 1070\n",
      "Model Loaded\n",
      " Ja, men den første en af de spiser handler om dig og din baggrund. De første spørgsmål er, hvad du hedder, hvor gammel du er og hvad du uddander. Jeg hedder Jens Berling-Jarvsen. Jeg er 30 år gammel. Jeg uddander som medikør. Ja. Hvor er du uddannet fra? Vejle. Vejle. Ja. Og hvad laver du danske bank? Jeg er software-udvikler. Ja. Er du leder eller medarbejder? Medarbejder. Så du har ikke nogen under dig overhovedet? Nej. Nej. Okay. Kan du prøve at fortælle lidt mere om dit arbejde som software-udvikler? Hvad laver du og hvilke teams sidder du i? Jamen, jeg hedder... Vi er udviklet i tysk selvfølgelig. Det hedder Chef-Royalty. Vi laver en konservatering herfra. Og vi laver også webappier. Og samlet My Frontline-udvikling i 11. Og der sidder jeg i et team. Altså i under People Tribe. Ja, People Tribe. Ja, og der sidder en intervallekommunikationskurs. Ja. Ja. Okay. Jeg tror ikke, det giver mening, at de arbejder med mere end det. Hvad med noget? Jeg tror ikke, det giver så meget mening at de siger mere end det. Nej, okay. Nej, ikke faktisk. Jeg kommer bare til at tænke på sådan noget. Men når du så har software-udvikler, hvad er det? Hvad laver jeg ud af eller? Ja, en lille smule. Det er noget mærkeligt. Ja, men det er ikke så slemt, at jeg ikke føler, at vi godt kan køre ned. Er det slemt over sig? Overhovedet ikke. Nej, okay. Du falder en lille smule ud, men det er ikke så galt. Men kan du fortælle lidt mere om, når du så laver software-udvikling i People Tribe-teamet, hvad er det så for nogle opgaver, du lykkes, og hvad er en del af din arbejdstag? Det er, hvis du tænker på... Arbejdsovgave? Tænker du på, hvilken opgave du skal gå ud på, eller tænker du på... Ja, for de slags opgaver, du løser for People Tribe-projektet. Det kunne være, at vi skulle have et nyt literside for udvikling. Ja. Så der med at gå ud på, at istedet for, at alle ledere kan komme, og så have en overblik over, hvilke opgaver de skal udføre, og hvorfor i hændelse af svært arbejde eller? Ja. Og så kan de også styr på, om de udfører eller ikke udfører. Så skal der komme mail, og så skal der gå en gang, så kan der komme mail om, om de har pendinger. Ja. Og så kommer der altså andet liter fremme, og det er den opgave. Men det kunne være én opgave. Okay. Okay, lad os se. Det vender vi lige tilbage til om et par minutter. Jeg kunne også godt høre, at I tænkte mig at vide, hvordan er din familiesituation? Har du fx hjemmebone børn eller partner? Ja, vi har gift, og har to børn. Ja. Og de er hjemmebone? Hjemmebone, de er tre-elfe-deks. Okay, hvor gammel. Og nu er der... Hej så. Hej. Er det noget, du tager til at lave nu? Jeg skal bare lige se. Nå, okay. Fair nok. Du må da være ved dig. Hvad for noget? Jamen, det er fordi, jeg har et interview kørende. Et forsigningstid. Helt okay. Og min team? Hvis du sagde, jeg har min team? Øh... Ja. Så meget velkommen. Tak. Nå, jeg havde lige et... Jeg sidder på et fælles kontor. Der var åbenbart en, der lige skulle ind og tjekke noget. Okay. Beklager. Men dine børn? Ja, de er hjemmebone. Ja. Okay. Tre-seks år. Tre styk? Tre og seks år, ja. Nå, tre og seks år gammel. Undskyld. Undskyld. Hvordan arbejder du hjemme fra, far corona? Der arbejder jeg hjemme fra to dage imod. To dage imod? Ja. Okay. Det er far corona, ikke? Ja, far corona. Hvad? Så du havde relativt gode muligheder for at arbejde hjemme fra, og også for at corona i det lille? Jamen, det er også fordi, jeg har en nyovis sygdom, men det er fuld levpotig. Ja. Som gør, at jeg har noget at gå på. Okay. Okay. Jeg er faktisk en barkeller. Ja. Så, de er fra starten i din antældelse indrettet i et system, hvor det gjorde mulighed for dig at arbejde? Nej, det er noget, som jeg... Det er den tid, jeg mest skal være der, det er kommet. Ja, okay. Okay. Så det er noget, som... Det er noget, man med tiden har indrettet, hvis man har indrettet sit livsplan. Ja. Ja, jeg forstår. Jamen, du arbejder fuld tid? Ja, jeg arbejder fuld tid. Ja, okay. Klar. Hvor langt bor du fra din arbejdsplads i forhold til Tiden i 40 kroner? 60 km. 64 km? Ja. Okay. Så der er meget transport, hvis du skal ind på kontoret? Ja, det er også en af grundene til... Altså, da jeg startede deroppe, var det første, bare 12 år eller sådan noget. Der er kølt opværelse af det. Så jo, der er meget transport. Så det er, at jeg siger, 11 kroner kom der, ikke rigtig meget. Nej, det forstår jeg godt. Det forstår jeg lige, det er godt. Ja, okay. Det kan mini. Skal vi lige prøve at se her. Derhjemme har du indrettet hjemmekontorer. Hvordan holder du styr over din arbejdsdage hjemmefra? Jamen altså, jeg har lige indrettet det her kontor sted, det her. Noget vi lige startede på i sidste uge. Ja. Eller de første to år, når corona stod knapret, der sidde de sådan vildt i kontoret. Okay, så et nødvendigt kontor derhjemme? Ja, men nu er det... Nu er det ikke vildt, så det er det, der er permanent. Ja, ja, så nu er det permanent. Okay. Hvad er for nogle ting... Hvad med, jeg havde du? Øj, jeg vil ikke. Nu kommer den. Det var der troligt så mange, der rammer i dag. Det er forrømt, at der ikke er. Hvad for nogle ting har du brugt i dit hjemmerbejde? Jamen altså, udover computers, kristøren, skærmen, hus. Ja. Så leende i... Altså, det er en stol, jeg sidder i kontorstolen, jeg sidder på, og så er jeg jo i Singapore, så jeg får en fridt med mig. Klar. Og har du altid siddet ved Havu Sengeborg, for eksempel? Nej, nej, det er nødvendigt at starte på i sidste uge. Ja, okay. Så før i det, så har du... Selvom du har det hjemme, så har du ikke haft det perfekte kontor setup. Nej, det er nødvendigt. Ja, ja, okay. Først. Først. Kan vi prøve at tale lidt mere, sådan lidt mere dybtegående, om hvilke digitale teknologier du typisk bruger, når du løser opgaver som softwareudvikler? Du siger det her med, at du får tildel opgaver en gang om ugen eller på mail. Har. Nej, du må ikke have en uddelte. Jeg får tildeligvis, at vi har et del af et skrøm. Ja. Altså vi kører ikke helt i et skrøm. Ja. Og der har vi så en stenskrøm, det er en konkretenskrøm, der er vores opgaver. Og en gang om ugen har vi så blanding, og vi så blander af, hvad vi skal udføre i det med ugen. Og så har vi så en opgave, der skal blå af, og så vil vi jo så ud og... Og det gør en opgave, der er blevet enyn, ved at det er skrøm. Og de har så et sprandt varets og uger. Altså der har vi i viden af tiden, altså det er så der story flange, vi kan udføre, for at sprande det, sprandt det. Og vi kan se det historisk mest, hvad vi normalt udfører, det lægger vi sig indenfor. Og hvis jeg er ved at gå ud over det, det vil sige, at vi enden har lyst til at opgave på et set, eller... Ja, så plukker jeg så i ud flere opgaver ind. Ja, okay. Så er dine opgaver blevet defineret af hele det her sprint? Og du er med til at beslutte, hvilke opgaver du skal være med ind over i daily stand-ups og i sådan nogle sprintmøder? Ja. Ja, okay. Hvad for nogle software bruger du til at lave de opgaver, som du bliver sat til, eller som er en del af dit arbejde? Vi sidder i Studio Code i 2019, og det er det, der er primært. Ja. Bruger du nogle koordinationsteknologier nu? Nu sidder vi for eksempel i Teams, hvor vigtigt er det for dit arbejde? Ja, altså nu bruger vi det som en set. Andre værktøjer, der du bruger til at koordinere dine arbejdsopgaver sammen med din kollega? Ja, selvfølgelig MailSats. Ja. Men altså, der er primært Teams. Okay. Kan du give et eksempel på, hvordan du løb i samarbejdsopgaver med kollegaer? Generelt, nu har jeg talt om, at I har et daily stand-up, og der bliver spækket nogle forskellige ting i de her opgaver. Men hvordan arbejder du på en opgave, som andre også har i gang med samtidig med dig? For eksempel et sprint. Hvordan sørger I for at koordinere løbene? Kan du sige lidt mere om det? Det er jo bare at koordinere sig. Kun ikke nogen mere Teams eller... Jamen altså, for eksempel, hvis det er der på det samme ting, så typisk, så vil vi jo......bankfiskere vores ting individuelt og så sammen. Ja, hvordan gør I det? Jamen det gør vi altså ved, at vi har jo Source Repository som et kit. Der bruger vi ACDA's, altså det er ACDA's deroppe, så vi kan bruge kits, Repository ligger. Og der kan man så tjekke sin ting ind, og så kan vi møde dem sammen, og så kan vi tjekke dem i vores staging-miljø. Okay. Så I har... Ja, men så kan man selv koordinere en krop over vores ting. Ja, okay. Men jeg hører også at sige, I arbejder også over kit i den forstand, at I får verificeret noget kode og andet. Er det internt i teamet, at I verificerer koden eller verificerer du med andre afdelinger af Danske Bank? Jamen, der har vi... Hvis du vil lære public questions, så stller vi en review på. Og så bliver den reviewet, det er så... Ja, det er så egentlig infoen af teamet. Ja. Og hen når han eller hun så har reviewet det og så er det ok, så bliver det så approved, så kan du så gå ind og møde din ting ind i Aftabot. Okay. Og alt kode bliver reviewed inden det bliver lanceret? Ja. Ja. Okay. Nu siger du, du er gået fra en arbejdsdag, hvor du har arbejdet to dage om ugen hjemme fra 40 kroner til en arbejdsdag, hvor du arbejder hjemme hver dag. Ja. Hvad har det betydet for din måde at arbejde på? Helt enkelt det, du... Nej. Fordi når vi så bare i de dage, hvor jeg så måske er par, fordi de der, altså inden det er par arbejde, så er det på kontoret. Det for mig, det er faktisk det samme. Altså min teamkollega, de er lige sammen, ikke? Der er et stavrum, og der er lige to af dem, der er i stavrum, og der ville vi altid... Daily Scrum, der er der kører over teams, og Sulfime, der er der kører over teams, alt er der kører over teams. En stavlager er fuldstændig sammen for mig, mens jeg er hjemmevendt. Ja, men var det også sådan, før coronakrisen oplevede du? Hvordan holdt I møder, for eksempel? Det har jeg jo lige forforsket. Det var jeg også involuseret. Det var før coronakrisen, jeg havde en lidsstavisk oplevelse. Så jeg stod i en lidsstavisk oplevelse, og der var ikke noget grund til at være. Nej. Okay. Så det har faktisk endt og det store for mig. Okay. Hvad har det betydet for måden, du møder ind på arbejde, og holder fri fra arbejde, og at alt arbejde er hjemmefra? Møder du tidligere, arbejder du mere, eller tjekker du din maletidmøde aften? Jeg møder lidt... Nej, jeg møder faktisk brugt til en stund. Møder jeg typisk om 20, og så føler jeg mig måske lidt senere. Ja. Så det ydede hjemmerbejde har faktisk også betydet, at du arbejder lidt mere, end du ellers skulle? Nej, men nu løber det måske ikke rigtig meget. Hvornår holder du fri? Jamen, det er jo typisk klokken. Jamen, 94. 94? Ja. Okay. Og er du ansat på jobløn eller kontrakt? Jobløn. Okay, du er ansat på jobløn. Ja, altså det er nok vidst, synes jeg. Ja, okay. Okay, så det at du har fået en arbejdsue, der hedder 5 Dages Hjemmerbejde Mone, har gjort, at du faktisk arbejder til lidt senere end du plejer? Ja, altså fordi nu har jeg 24. Ja. Men, altså, hvis jeg helst så ser jeg fra stadigvæk til det, at jeg bare skal tage en arbejdsue.\n"
     ]
    }
   ],
   "source": [
    "import whisper\n",
    "import torch\n",
    "import os\n",
    "\n",
    "def transcribeAudio(modelSize, audio):\n",
    "    # \"Interview_20_Danske Bank.m4a\"\n",
    "    # modelSize = \"small\"\n",
    "\n",
    "    if torch.cuda.is_available() == True:\n",
    "        print(f\"Cuda device {torch.cuda.get_device_name()} is avaliable. Setting DEVICE to {torch.cuda.get_device_name()}\")\n",
    "        torch.cuda.empty_cache()\n",
    "        #os.environ[\"PYTORCH_CUDA_ALLOC_CONF\"] = \"max_split_size_mb:512\"\n",
    "        #torch.cuda.set_per_process_memory_fraction(0.6)\n",
    "        DEVICE = 'cuda'\n",
    "\n",
    "    model = whisper.load_model(modelSize, device = DEVICE)\n",
    "    print(\"Model Loaded\")\n",
    "    \n",
    "    result = model.transcribe(audio)\n",
    "    print(result[\"text\"])\n",
    "\n",
    "transcribeAudio(\"medium\", \"Interview_20_Danske Bank_SHORT.m4a\")"
   ]
  },
  {
   "cell_type": "code",
   "execution_count": null,
   "metadata": {},
   "outputs": [],
   "source": []
  }
 ],
 "metadata": {
  "kernelspec": {
   "display_name": "gpuVenv",
   "language": "python",
   "name": "gpuvenv"
  },
  "language_info": {
   "codemirror_mode": {
    "name": "ipython",
    "version": 3
   },
   "file_extension": ".py",
   "mimetype": "text/x-python",
   "name": "python",
   "nbconvert_exporter": "python",
   "pygments_lexer": "ipython3",
   "version": "3.10.9"
  },
  "orig_nbformat": 4,
  "vscode": {
   "interpreter": {
    "hash": "2d2bad37c8a051aca7f751a208b304e35dca3742080d56334b03962602323cda"
   }
  }
 },
 "nbformat": 4,
 "nbformat_minor": 2
}
